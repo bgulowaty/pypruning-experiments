{
 "cells": [
  {
   "cell_type": "code",
   "execution_count": 1,
   "id": "14aa84c4-bc08-4b7b-a36f-3a6f0e310992",
   "metadata": {
    "execution": {
     "iopub.execute_input": "2023-03-05T23:31:10.088095Z",
     "iopub.status.busy": "2023-03-05T23:31:10.087775Z",
     "iopub.status.idle": "2023-03-05T23:31:10.106751Z",
     "shell.execute_reply": "2023-03-05T23:31:10.106220Z"
    },
    "papermill": {
     "duration": 0.028036,
     "end_time": "2023-03-05T23:31:10.107996",
     "exception": false,
     "start_time": "2023-03-05T23:31:10.079960",
     "status": "completed"
    },
    "tags": [
     "params",
     "parameters"
    ]
   },
   "outputs": [],
   "source": [
    "RUN_ID = '4c7b8ef6771a40ffa871eacee7854ac0'"
   ]
  },
  {
   "cell_type": "code",
   "execution_count": 2,
   "id": "026ed222",
   "metadata": {
    "execution": {
     "iopub.execute_input": "2023-03-05T23:31:10.115823Z",
     "iopub.status.busy": "2023-03-05T23:31:10.115390Z",
     "iopub.status.idle": "2023-03-05T23:31:10.118029Z",
     "shell.execute_reply": "2023-03-05T23:31:10.117581Z"
    },
    "papermill": {
     "duration": 0.00739,
     "end_time": "2023-03-05T23:31:10.119047",
     "exception": false,
     "start_time": "2023-03-05T23:31:10.111657",
     "status": "completed"
    },
    "tags": [
     "injected-parameters"
    ]
   },
   "outputs": [],
   "source": [
    "# Parameters\n",
    "EXPERIMENT_INSTANCE_ID = \"6f5d31940b44473182313f5b895002b8\"\n"
   ]
  },
  {
   "cell_type": "code",
   "execution_count": 3,
   "id": "6421dbf1-be5d-479e-8374-030e82500e80",
   "metadata": {
    "execution": {
     "iopub.execute_input": "2023-03-05T23:31:10.125480Z",
     "iopub.status.busy": "2023-03-05T23:31:10.125078Z",
     "iopub.status.idle": "2023-03-05T23:31:11.343503Z",
     "shell.execute_reply": "2023-03-05T23:31:11.342943Z"
    },
    "papermill": {
     "duration": 1.223523,
     "end_time": "2023-03-05T23:31:11.345241",
     "exception": false,
     "start_time": "2023-03-05T23:31:10.121718",
     "status": "completed"
    },
    "tags": []
   },
   "outputs": [],
   "source": [
    "import mlflow\n",
    "import pandas as pd\n",
    "from box import Box\n",
    "from PyPruning.RandomPruningClassifier import RandomPruningClassifier\n",
    "from PyPruning.GreedyPruningClassifier import GreedyPruningClassifier\n",
    "from PyPruning.RankPruningClassifier import RankPruningClassifier \n",
    "from PyPruning.ProxPruningClassifier import ProxPruningClassifier\n",
    "from PyPruning.ClusterPruningClassifier import ClusterPruningClassifier\n",
    "from sklearn.metrics import accuracy_score\n",
    "from sklearn.ensemble import BaggingClassifier\n",
    "from sklearn.neighbors import KNeighborsClassifier\n",
    "from mlxtend.classifier import EnsembleVoteClassifier\n",
    "from mlutils.ensemble.extract_ensemble import extract_classifiers_from_bagging\n",
    "from mlutils.encoding.refittable_label_encoder import RefitableLabelEncoder"
   ]
  },
  {
   "cell_type": "code",
   "execution_count": 4,
   "id": "45e6ed21-d858-4fe2-99db-106109272b8a",
   "metadata": {
    "execution": {
     "iopub.execute_input": "2023-03-05T23:31:11.351972Z",
     "iopub.status.busy": "2023-03-05T23:31:11.351558Z",
     "iopub.status.idle": "2023-03-05T23:31:11.354472Z",
     "shell.execute_reply": "2023-03-05T23:31:11.354025Z"
    },
    "papermill": {
     "duration": 0.007389,
     "end_time": "2023-03-05T23:31:11.355481",
     "exception": false,
     "start_time": "2023-03-05T23:31:11.348092",
     "status": "completed"
    },
    "tags": []
   },
   "outputs": [],
   "source": [
    "mlflow.set_tracking_uri(\"file:///home/bogul/pypruning-experiments/notebooks/mlruns\")\n"
   ]
  },
  {
   "cell_type": "code",
   "execution_count": 5,
   "id": "495c5f72-8944-4091-8e1d-34959e6318b9",
   "metadata": {
    "execution": {
     "iopub.execute_input": "2023-03-05T23:31:11.361753Z",
     "iopub.status.busy": "2023-03-05T23:31:11.361340Z",
     "iopub.status.idle": "2023-03-05T23:31:11.445573Z",
     "shell.execute_reply": "2023-03-05T23:31:11.445020Z"
    },
    "papermill": {
     "duration": 0.089002,
     "end_time": "2023-03-05T23:31:11.447048",
     "exception": false,
     "start_time": "2023-03-05T23:31:11.358046",
     "status": "completed"
    },
    "tags": []
   },
   "outputs": [],
   "source": [
    "run = mlflow.start_run(run_id=RUN_ID)\n"
   ]
  },
  {
   "cell_type": "code",
   "execution_count": 6,
   "id": "fd50c0cc-cba1-4ef3-8815-60d4a1cfce00",
   "metadata": {
    "execution": {
     "iopub.execute_input": "2023-03-05T23:31:11.454102Z",
     "iopub.status.busy": "2023-03-05T23:31:11.453760Z",
     "iopub.status.idle": "2023-03-05T23:31:11.457187Z",
     "shell.execute_reply": "2023-03-05T23:31:11.456648Z"
    },
    "papermill": {
     "duration": 0.008339,
     "end_time": "2023-03-05T23:31:11.458348",
     "exception": false,
     "start_time": "2023-03-05T23:31:11.450009",
     "status": "completed"
    },
    "tags": []
   },
   "outputs": [],
   "source": [
    "params = Box(run.data.params,  box_recast={\n",
    "                'bagging_size': int,\n",
    "                'ensemble_size': int\n",
    "            })"
   ]
  },
  {
   "cell_type": "code",
   "execution_count": 7,
   "id": "5fdfef33-6230-4763-b5c2-38646b306f25",
   "metadata": {
    "execution": {
     "iopub.execute_input": "2023-03-05T23:31:11.464981Z",
     "iopub.status.busy": "2023-03-05T23:31:11.464667Z",
     "iopub.status.idle": "2023-03-05T23:31:11.467577Z",
     "shell.execute_reply": "2023-03-05T23:31:11.467113Z"
    },
    "papermill": {
     "duration": 0.007469,
     "end_time": "2023-03-05T23:31:11.468623",
     "exception": false,
     "start_time": "2023-03-05T23:31:11.461154",
     "status": "completed"
    },
    "tags": []
   },
   "outputs": [],
   "source": [
    "params.test_path = params.train_path.replace('train', 'test')\n"
   ]
  },
  {
   "cell_type": "code",
   "execution_count": 8,
   "id": "76d9ab37-96c6-45be-9598-b6a42f8f4847",
   "metadata": {
    "execution": {
     "iopub.execute_input": "2023-03-05T23:31:11.475124Z",
     "iopub.status.busy": "2023-03-05T23:31:11.474720Z",
     "iopub.status.idle": "2023-03-05T23:31:11.478114Z",
     "shell.execute_reply": "2023-03-05T23:31:11.477645Z"
    },
    "papermill": {
     "duration": 0.007823,
     "end_time": "2023-03-05T23:31:11.479161",
     "exception": false,
     "start_time": "2023-03-05T23:31:11.471338",
     "status": "completed"
    },
    "tags": []
   },
   "outputs": [],
   "source": [
    "def read_dataset(path):\n",
    "    data = pd.read_csv(path)\n",
    "    x = data.drop('TARGET', axis=1).values\n",
    "    y = data['TARGET'].values\n",
    "\n",
    "    return {\n",
    "        \"x\": x,\n",
    "        \"y\": y\n",
    "    }"
   ]
  },
  {
   "cell_type": "code",
   "execution_count": 9,
   "id": "cfd843fa-cd66-4cc4-9043-bd05731d1ce3",
   "metadata": {
    "execution": {
     "iopub.execute_input": "2023-03-05T23:31:11.485505Z",
     "iopub.status.busy": "2023-03-05T23:31:11.485131Z",
     "iopub.status.idle": "2023-03-05T23:31:11.771700Z",
     "shell.execute_reply": "2023-03-05T23:31:11.771163Z"
    },
    "papermill": {
     "duration": 0.291285,
     "end_time": "2023-03-05T23:31:11.773146",
     "exception": false,
     "start_time": "2023-03-05T23:31:11.481861",
     "status": "completed"
    },
    "tags": []
   },
   "outputs": [],
   "source": [
    "dataset = Box({\n",
    "        'train': read_dataset(params.train_path),\n",
    "        'test': read_dataset(params.test_path),\n",
    "        'name': params.train_path.split(\"/\")[-1].replace(\"-train\", '')\n",
    "    })\n"
   ]
  },
  {
   "cell_type": "code",
   "execution_count": 10,
   "id": "6b0e2d76-18d0-4bf6-bcf1-7d0f6753a439",
   "metadata": {
    "execution": {
     "iopub.execute_input": "2023-03-05T23:31:11.780158Z",
     "iopub.status.busy": "2023-03-05T23:31:11.779851Z",
     "iopub.status.idle": "2023-03-05T23:31:11.785296Z",
     "shell.execute_reply": "2023-03-05T23:31:11.784859Z"
    },
    "papermill": {
     "duration": 0.010145,
     "end_time": "2023-03-05T23:31:11.786386",
     "exception": false,
     "start_time": "2023-03-05T23:31:11.776241",
     "status": "completed"
    },
    "tags": []
   },
   "outputs": [
    {
     "data": {
      "text/plain": [
       "Box({'bagging_size': 500, 'ensemble_size': 20, 'train_path': '/home/bogul/pypruning-experiments/../datasets/processed/texture-train-2-s2.csv', 'test_path': '/home/bogul/pypruning-experiments/../datasets/processed/texture-test-2-s2.csv'})"
      ]
     },
     "execution_count": 10,
     "metadata": {},
     "output_type": "execute_result"
    }
   ],
   "source": [
    "params"
   ]
  },
  {
   "cell_type": "code",
   "execution_count": 11,
   "id": "3c262734-8852-43f3-b504-35a5e6c76cba",
   "metadata": {
    "execution": {
     "iopub.execute_input": "2023-03-05T23:31:11.793430Z",
     "iopub.status.busy": "2023-03-05T23:31:11.792993Z",
     "iopub.status.idle": "2023-03-05T23:31:12.463962Z",
     "shell.execute_reply": "2023-03-05T23:31:12.463195Z"
    },
    "papermill": {
     "duration": 0.67613,
     "end_time": "2023-03-05T23:31:12.465527",
     "exception": false,
     "start_time": "2023-03-05T23:31:11.789397",
     "status": "completed"
    },
    "tags": []
   },
   "outputs": [],
   "source": [
    "\n",
    "le = RefitableLabelEncoder()\n",
    "dataset.train.y = le.fit_transform(dataset.train.y)\n",
    "\n",
    "bagging = BaggingClassifier(estimator=KNeighborsClassifier(n_neighbors=3), n_estimators=params.bagging_size, max_samples=0.3, random_state=42)\n",
    "bagging.fit(dataset.train.x, dataset.train.y) \n",
    "bagging_clfs = extract_classifiers_from_bagging(bagging)    \n",
    "\n",
    "\n",
    "rank_pruning = RankPruningClassifier(n_estimators = params.bagging_size)\n",
    "greedy_pruning = GreedyPruningClassifier(n_estimators = params.bagging_size)\n",
    "cluster_pruning = ClusterPruningClassifier(n_estimators = params.bagging_size)\n",
    "prox_pruning = ProxPruningClassifier()\n",
    "random_pruning = RandomPruningClassifier(n_estimators = params.bagging_size)\n"
   ]
  },
  {
   "cell_type": "code",
   "execution_count": 12,
   "id": "1b125fd2-28a3-4114-8e7e-1ee40047cc29",
   "metadata": {
    "execution": {
     "iopub.execute_input": "2023-03-05T23:31:12.473102Z",
     "iopub.status.busy": "2023-03-05T23:31:12.472776Z",
     "iopub.status.idle": "2023-03-05T23:31:12.475913Z",
     "shell.execute_reply": "2023-03-05T23:31:12.475444Z"
    },
    "papermill": {
     "duration": 0.008157,
     "end_time": "2023-03-05T23:31:12.476929",
     "exception": false,
     "start_time": "2023-03-05T23:31:12.468772",
     "status": "completed"
    },
    "tags": []
   },
   "outputs": [],
   "source": [
    "prunings =  [rank_pruning, greedy_pruning, cluster_pruning, prox_pruning, random_pruning]"
   ]
  },
  {
   "cell_type": "code",
   "execution_count": 13,
   "id": "5fd43b76-32a3-4ea1-be06-3143d38fc903",
   "metadata": {
    "execution": {
     "iopub.execute_input": "2023-03-05T23:31:12.483805Z",
     "iopub.status.busy": "2023-03-05T23:31:12.483412Z",
     "iopub.status.idle": "2023-03-05T23:31:23.607004Z",
     "shell.execute_reply": "2023-03-05T23:31:23.606393Z"
    },
    "papermill": {
     "duration": 11.128383,
     "end_time": "2023-03-05T23:31:23.608208",
     "exception": false,
     "start_time": "2023-03-05T23:31:12.479825",
     "status": "completed"
    },
    "tags": []
   },
   "outputs": [
    {
     "data": {
      "text/plain": [
       "[<PyPruning.RankPruningClassifier.RankPruningClassifier at 0x14f8fce684f0>,\n",
       " <PyPruning.GreedyPruningClassifier.GreedyPruningClassifier at 0x14f8fce69ba0>,\n",
       " <PyPruning.ClusterPruningClassifier.ClusterPruningClassifier at 0x14f8fce6a2f0>,\n",
       " <PyPruning.ProxPruningClassifier.ProxPruningClassifier at 0x14f8fce6bc10>,\n",
       " <PyPruning.RandomPruningClassifier.RandomPruningClassifier at 0x14f8b0d08c40>]"
      ]
     },
     "execution_count": 13,
     "metadata": {},
     "output_type": "execute_result"
    }
   ],
   "source": [
    "[pruning.prune(dataset.train.x, dataset.train.y, estimators=bagging_clfs) for pruning in prunings]"
   ]
  },
  {
   "cell_type": "code",
   "execution_count": 14,
   "id": "0a90c01f-4757-4f98-b2c6-73144af8794a",
   "metadata": {
    "execution": {
     "iopub.execute_input": "2023-03-05T23:31:23.616206Z",
     "iopub.status.busy": "2023-03-05T23:31:23.615857Z",
     "iopub.status.idle": "2023-03-05T23:31:34.529691Z",
     "shell.execute_reply": "2023-03-05T23:31:34.528919Z"
    },
    "papermill": {
     "duration": 10.919672,
     "end_time": "2023-03-05T23:31:34.531276",
     "exception": false,
     "start_time": "2023-03-05T23:31:23.611604",
     "status": "completed"
    },
    "tags": []
   },
   "outputs": [],
   "source": [
    "acc_by_name = {pruning.__class__.__name__: accuracy_score(pruning.predict(dataset.test.x), dataset.test.y) \n",
    "for pruning in prunings}"
   ]
  },
  {
   "cell_type": "code",
   "execution_count": 15,
   "id": "c9f11310-3990-488b-a570-bb81ae0e8fc1",
   "metadata": {
    "execution": {
     "iopub.execute_input": "2023-03-05T23:31:34.540792Z",
     "iopub.status.busy": "2023-03-05T23:31:34.540469Z",
     "iopub.status.idle": "2023-03-05T23:31:34.560401Z",
     "shell.execute_reply": "2023-03-05T23:31:34.559867Z"
    },
    "papermill": {
     "duration": 0.025443,
     "end_time": "2023-03-05T23:31:34.561565",
     "exception": false,
     "start_time": "2023-03-05T23:31:34.536122",
     "status": "completed"
    },
    "tags": []
   },
   "outputs": [],
   "source": [
    "mlflow.log_metrics(acc_by_name)"
   ]
  },
  {
   "cell_type": "code",
   "execution_count": 16,
   "id": "782eeff8-ac32-4555-a3b4-6ef43e4744c1",
   "metadata": {
    "execution": {
     "iopub.execute_input": "2023-03-05T23:31:34.569337Z",
     "iopub.status.busy": "2023-03-05T23:31:34.568858Z",
     "iopub.status.idle": "2023-03-05T23:31:36.488127Z",
     "shell.execute_reply": "2023-03-05T23:31:36.487463Z"
    },
    "papermill": {
     "duration": 1.925018,
     "end_time": "2023-03-05T23:31:36.489736",
     "exception": false,
     "start_time": "2023-03-05T23:31:34.564718",
     "status": "completed"
    },
    "tags": []
   },
   "outputs": [],
   "source": [
    "mlflow.log_metric('bagging_acc', accuracy_score(bagging.predict(dataset.test.x), dataset.test.y))"
   ]
  },
  {
   "cell_type": "code",
   "execution_count": 17,
   "id": "e7ebf13e-1f98-4328-af02-c8d9e12ee78d",
   "metadata": {
    "execution": {
     "iopub.execute_input": "2023-03-05T23:31:36.497983Z",
     "iopub.status.busy": "2023-03-05T23:31:36.497643Z",
     "iopub.status.idle": "2023-03-05T23:31:36.515037Z",
     "shell.execute_reply": "2023-03-05T23:31:36.514501Z"
    },
    "papermill": {
     "duration": 0.022985,
     "end_time": "2023-03-05T23:31:36.516297",
     "exception": false,
     "start_time": "2023-03-05T23:31:36.493312",
     "status": "completed"
    },
    "tags": []
   },
   "outputs": [],
   "source": [
    "mlflow.end_run()"
   ]
  }
 ],
 "metadata": {
  "kernelspec": {
   "display_name": "Python 3 (ipykernel)",
   "language": "python",
   "name": "python3"
  },
  "language_info": {
   "codemirror_mode": {
    "name": "ipython",
    "version": 3
   },
   "file_extension": ".py",
   "mimetype": "text/x-python",
   "name": "python",
   "nbconvert_exporter": "python",
   "pygments_lexer": "ipython3",
   "version": "3.10.6"
  },
  "papermill": {
   "default_parameters": {},
   "duration": 28.539834,
   "end_time": "2023-03-05T23:31:37.136187",
   "environment_variables": {},
   "exception": null,
   "input_path": "/home/bogul/pypruning-experiments/notebooks/single-experiment-run.ipynb",
   "output_path": "/home/bogul/tmp/bogul-exp-ijcnnvp_p2lfe/6f5d31940b44473182313f5b895002b8.ipynb",
   "parameters": {
    "EXPERIMENT_INSTANCE_ID": "6f5d31940b44473182313f5b895002b8"
   },
   "start_time": "2023-03-05T23:31:08.596353",
   "version": "2.4.0"
  }
 },
 "nbformat": 4,
 "nbformat_minor": 5
}