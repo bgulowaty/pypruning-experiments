{
 "cells": [
  {
   "cell_type": "code",
   "execution_count": null,
   "id": "14aa84c4-bc08-4b7b-a36f-3a6f0e310992",
   "metadata": {
    "tags": [
     "params",
     "parameters"
    ]
   },
   "outputs": [],
   "source": [
    "RUN_ID = '4c7b8ef6771a40ffa871eacee7854ac0'"
   ]
  },
  {
   "cell_type": "code",
   "execution_count": null,
   "id": "6421dbf1-be5d-479e-8374-030e82500e80",
   "metadata": {
    "tags": []
   },
   "outputs": [],
   "source": [
    "import mlflow\n",
    "import pandas as pd\n",
    "from box import Box\n",
    "from PyPruning.RandomPruningClassifier import RandomPruningClassifier\n",
    "from PyPruning.GreedyPruningClassifier import GreedyPruningClassifier\n",
    "from PyPruning.RankPruningClassifier import RankPruningClassifier \n",
    "from PyPruning.ProxPruningClassifier import ProxPruningClassifier\n",
    "from PyPruning.ClusterPruningClassifier import ClusterPruningClassifier\n",
    "from sklearn.metrics import accuracy_score\n",
    "from sklearn.ensemble import BaggingClassifier\n",
    "from sklearn.neighbors import KNeighborsClassifier\n",
    "from mlxtend.classifier import EnsembleVoteClassifier\n",
    "from mlutils.ensemble.extract_ensemble import extract_classifiers_from_bagging\n",
    "from mlutils.encoding.refittable_label_encoder import RefitableLabelEncoder"
   ]
  },
  {
   "cell_type": "code",
   "execution_count": null,
   "id": "45e6ed21-d858-4fe2-99db-106109272b8a",
   "metadata": {},
   "outputs": [],
   "source": [
    "mlflow.set_tracking_uri(\"file:///home/bogul/pypruning-experimentspypruning-experiments/notebooks/mlruns\")\n"
   ]
  },
  {
   "cell_type": "code",
   "execution_count": null,
   "id": "495c5f72-8944-4091-8e1d-34959e6318b9",
   "metadata": {
    "tags": []
   },
   "outputs": [],
   "source": [
    "run = mlflow.start_run(run_id=RUN_ID)\n"
   ]
  },
  {
   "cell_type": "code",
   "execution_count": null,
   "id": "fd50c0cc-cba1-4ef3-8815-60d4a1cfce00",
   "metadata": {
    "tags": []
   },
   "outputs": [],
   "source": [
    "params = Box(run.data.params,  box_recast={\n",
    "                'bagging_size': int,\n",
    "                'ensemble_size': int\n",
    "            })"
   ]
  },
  {
   "cell_type": "code",
   "execution_count": null,
   "id": "5fdfef33-6230-4763-b5c2-38646b306f25",
   "metadata": {
    "tags": []
   },
   "outputs": [],
   "source": [
    "params.test_path = params.train_path.replace('train', 'test')\n"
   ]
  },
  {
   "cell_type": "code",
   "execution_count": null,
   "id": "76d9ab37-96c6-45be-9598-b6a42f8f4847",
   "metadata": {
    "tags": []
   },
   "outputs": [],
   "source": [
    "def read_dataset(path):\n",
    "    data = pd.read_csv(path)\n",
    "    x = data.drop('TARGET', axis=1).values\n",
    "    y = data['TARGET'].values\n",
    "\n",
    "    return {\n",
    "        \"x\": x,\n",
    "        \"y\": y\n",
    "    }"
   ]
  },
  {
   "cell_type": "code",
   "execution_count": null,
   "id": "cfd843fa-cd66-4cc4-9043-bd05731d1ce3",
   "metadata": {
    "tags": []
   },
   "outputs": [],
   "source": [
    "dataset = Box({\n",
    "        'train': read_dataset(params.train_path),\n",
    "        'test': read_dataset(params.test_path),\n",
    "        'name': params.train_path.split(\"/\")[-1].replace(\"-train\", '')\n",
    "    })\n"
   ]
  },
  {
   "cell_type": "code",
   "execution_count": null,
   "id": "6b0e2d76-18d0-4bf6-bcf1-7d0f6753a439",
   "metadata": {
    "tags": []
   },
   "outputs": [],
   "source": [
    "params"
   ]
  },
  {
   "cell_type": "code",
   "execution_count": null,
   "id": "3c262734-8852-43f3-b504-35a5e6c76cba",
   "metadata": {
    "tags": []
   },
   "outputs": [],
   "source": [
    "\n",
    "le = RefitableLabelEncoder()\n",
    "dataset.train.y = le.fit_transform(dataset.train.y)\n",
    "\n",
    "bagging = BaggingClassifier(estimator=KNeighborsClassifier(n_neighbors=3), n_estimators=params.bagging_size, max_samples=0.3, random_state=42)\n",
    "bagging.fit(dataset.train.x, dataset.train.y) \n",
    "bagging_clfs = extract_classifiers_from_bagging(bagging)    \n",
    "\n",
    "\n",
    "rank_pruning = RankPruningClassifier(n_estimators = params.bagging_size)\n",
    "greedy_pruning = GreedyPruningClassifier(n_estimators = params.bagging_size)\n",
    "cluster_pruning = ClusterPruningClassifier(n_estimators = params.bagging_size)\n",
    "prox_pruning = ProxPruningClassifier()\n",
    "random_pruning = RandomPruningClassifier(n_estimators = params.bagging_size)\n"
   ]
  },
  {
   "cell_type": "code",
   "execution_count": null,
   "id": "1b125fd2-28a3-4114-8e7e-1ee40047cc29",
   "metadata": {
    "tags": []
   },
   "outputs": [],
   "source": [
    "prunings =  [rank_pruning, greedy_pruning, cluster_pruning, prox_pruning, random_pruning]"
   ]
  },
  {
   "cell_type": "code",
   "execution_count": null,
   "id": "5fd43b76-32a3-4ea1-be06-3143d38fc903",
   "metadata": {
    "tags": []
   },
   "outputs": [],
   "source": [
    "[pruning.prune(dataset.train.x, dataset.train.y, estimators=bagging_clfs) for pruning in prunings]"
   ]
  },
  {
   "cell_type": "code",
   "execution_count": null,
   "id": "0a90c01f-4757-4f98-b2c6-73144af8794a",
   "metadata": {
    "tags": []
   },
   "outputs": [],
   "source": [
    "acc_by_name = {pruning.__class__.__name__: accuracy_score(pruning.predict(dataset.test.x), dataset.test.y) \n",
    "for pruning in prunings}"
   ]
  },
  {
   "cell_type": "code",
   "execution_count": null,
   "id": "c9f11310-3990-488b-a570-bb81ae0e8fc1",
   "metadata": {
    "tags": []
   },
   "outputs": [],
   "source": [
    "mlflow.log_metrics(acc_by_name)"
   ]
  },
  {
   "cell_type": "code",
   "execution_count": null,
   "id": "782eeff8-ac32-4555-a3b4-6ef43e4744c1",
   "metadata": {
    "tags": []
   },
   "outputs": [],
   "source": [
    "mlflow.log_metric('bagging_acc', accuracy_score(bagging.predict(dataset.test.x), dataset.test.y))"
   ]
  },
  {
   "cell_type": "code",
   "execution_count": null,
   "id": "e7ebf13e-1f98-4328-af02-c8d9e12ee78d",
   "metadata": {
    "tags": []
   },
   "outputs": [],
   "source": [
    "mlflow.end_run()"
   ]
  }
 ],
 "metadata": {
  "kernelspec": {
   "display_name": "Python 3 (ipykernel)",
   "language": "python",
   "name": "python3"
  },
  "language_info": {
   "codemirror_mode": {
    "name": "ipython",
    "version": 3
   },
   "file_extension": ".py",
   "mimetype": "text/x-python",
   "name": "python",
   "nbconvert_exporter": "python",
   "pygments_lexer": "ipython3",
   "version": "3.10.6"
  }
 },
 "nbformat": 4,
 "nbformat_minor": 5
}
