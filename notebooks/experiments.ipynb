{
 "cells": [
  {
   "cell_type": "code",
   "execution_count": 2,
   "id": "246208fc-4611-4eb4-ae8d-7f87e5ff5f85",
   "metadata": {
    "tags": []
   },
   "outputs": [],
   "source": [
    "%load_ext autoreload\n",
    "%autoreload 2\n"
   ]
  },
  {
   "cell_type": "code",
   "execution_count": 4,
   "id": "6be5471f-ae63-497f-bbe7-39bd2715cc9b",
   "metadata": {
    "tags": []
   },
   "outputs": [],
   "source": [
    "# import mlflow\n",
    "from sklearn.model_selection import ParameterGrid\n",
    "from mlflow.tracking import MlflowClient\n",
    "from pathlib import Path\n",
    "from copy import deepcopy\n",
    "import pandas as pd\n",
    "import tempfile\n",
    "from box import Box\n",
    "from glob import glob\n",
    "from mlxtend.classifier import EnsembleVoteClassifier\n",
    "from sklearn.ensemble import RandomForestClassifier, BaggingClassifier, VotingClassifier\n",
    "from sklearn.linear_model import Perceptron\n",
    "from sklearn.neighbors import KNeighborsClassifier\n",
    "from sklearn.datasets import load_digits\n",
    "from sklearn.model_selection import train_test_split\n",
    "from sklearn.metrics import accuracy_score\n",
    "from PyPruning.RandomPruningClassifier import RandomPruningClassifier\n",
    "from PyPruning.GreedyPruningClassifier import GreedyPruningClassifier\n",
    "from PyPruning.RankPruningClassifier import RankPruningClassifier \n",
    "from PyPruning.ProxPruningClassifier import ProxPruningClassifier\n",
    "from PyPruning.ClusterPruningClassifier import ClusterPruningClassifier\n",
    "from sklearn.preprocessing import LabelEncoder\n",
    "import numpy as np"
   ]
  },
  {
   "cell_type": "code",
   "execution_count": 7,
   "id": "16b6183b-8f0c-4d66-a0cc-79d6c0c1d949",
   "metadata": {
    "tags": []
   },
   "outputs": [],
   "source": [
    "from mlutils.ensemble.extract_ensemble import extract_classifiers_from_bagging"
   ]
  },
  {
   "cell_type": "code",
   "execution_count": 12,
   "id": "7e5a2ccf-e8e6-45c6-b677-1145f357cb11",
   "metadata": {
    "tags": []
   },
   "outputs": [],
   "source": [
    "PROJECT_ROOT = Path.cwd().parents[0]\n",
    "NOTEBOOKS_ROOT = PROJECT_ROOT / \"notebooks\"\n",
    "DATASETS_DIR = PROJECT_ROOT / \"..\" / \"rules-embedding-forest-reduction\" / \"data\" / \"processed\""
   ]
  },
  {
   "cell_type": "code",
   "execution_count": 13,
   "id": "b22ecd44-49ec-496a-a340-9f5e5d6fb9be",
   "metadata": {
    "tags": []
   },
   "outputs": [
    {
     "data": {
      "text/plain": [
       "True"
      ]
     },
     "execution_count": 13,
     "metadata": {},
     "output_type": "execute_result"
    }
   ],
   "source": [
    "DATASETS_DIR.exists()"
   ]
  },
  {
   "cell_type": "code",
   "execution_count": 14,
   "id": "57e1c329-5cfd-4541-a1d0-1dc7a8ecb69c",
   "metadata": {
    "tags": []
   },
   "outputs": [],
   "source": [
    "# mlflow.create_experiment('pypruning-base')\n",
    "mlflow_id = 1"
   ]
  },
  {
   "cell_type": "code",
   "execution_count": 15,
   "id": "72979a0a-9d2b-40d6-87c0-6c110b77dbea",
   "metadata": {},
   "outputs": [
    {
     "name": "stdout",
     "output_type": "stream",
     "text": [
      "['tae', 'penbased', 'vowel', 'hepatitis', 'vowel']\n"
     ]
    }
   ],
   "source": [
    "all_processed_data_files = glob(f\"{DATASETS_DIR}/*\")\n",
    "all_file_names = [\n",
    "    file.split('/')[-1].split('train')[0].rstrip('-') for file in all_processed_data_files if 'train' in file\n",
    "]\n",
    "print(all_file_names[:5])"
   ]
  },
  {
   "cell_type": "code",
   "execution_count": 16,
   "id": "4d53ec88-66ae-4544-8806-d7dfaa95127e",
   "metadata": {
    "tags": []
   },
   "outputs": [
    {
     "name": "stdout",
     "output_type": "stream",
     "text": [
      "[{'train': '/home/bogdan/Projects/pypruning-new/../rules-embedding-forest-reduction/data/processed/tae-train-3-s1.csv', 'test': '/home/bogdan/Projects/pypruning-new/../rules-embedding-forest-reduction/data/processed/tae-test-3-s1.csv'}, {'train': '/home/bogdan/Projects/pypruning-new/../rules-embedding-forest-reduction/data/processed/penbased-train-3-s1.csv', 'test': '/home/bogdan/Projects/pypruning-new/../rules-embedding-forest-reduction/data/processed/penbased-test-3-s1.csv'}]\n"
     ]
    }
   ],
   "source": [
    "train_and_test_paths = [\n",
    "    {\n",
    "        'train': path,\n",
    "        'test': path.replace('train', 'test')\n",
    "    } for path in all_processed_data_files if 'train' in path\n",
    "]\n",
    "print(train_and_test_paths[:2])"
   ]
  },
  {
   "cell_type": "code",
   "execution_count": 17,
   "id": "c84194d2-d681-43c7-b40b-49f2d4a61123",
   "metadata": {
    "tags": []
   },
   "outputs": [],
   "source": [
    "base_params = ParameterGrid({\n",
    "    \"train_path\": [path for path in all_processed_data_files if 'train' in path],\n",
    "    \"bagging_size\": [100, 200, 500],\n",
    "    \"ensemble_size\": [5, 10, 20],\n",
    "})"
   ]
  },
  {
   "cell_type": "code",
   "execution_count": 18,
   "id": "1013fb93-4a79-490d-85f2-10a90300b72d",
   "metadata": {
    "tags": []
   },
   "outputs": [],
   "source": [
    "client = MlflowClient()"
   ]
  },
  {
   "cell_type": "code",
   "execution_count": 19,
   "id": "4b4f3c13-5363-48d3-83a3-a7e5b411f93a",
   "metadata": {
    "tags": []
   },
   "outputs": [],
   "source": [
    "def read_dataset(path):\n",
    "    data = pd.read_csv(path)\n",
    "    x = data.drop('TARGET', axis=1).values\n",
    "    y = data['TARGET'].values\n",
    "\n",
    "    return Box({\n",
    "        \"x\": x,\n",
    "        \"y\": y\n",
    "    })"
   ]
  },
  {
   "cell_type": "code",
   "execution_count": 20,
   "id": "0c173060-b033-4a2f-a062-fcf95ffe32f1",
   "metadata": {
    "tags": []
   },
   "outputs": [
    {
     "data": {
      "text/plain": [
       "5940"
      ]
     },
     "execution_count": 20,
     "metadata": {},
     "output_type": "execute_result"
    }
   ],
   "source": [
    "len(base_params)"
   ]
  },
  {
   "cell_type": "code",
   "execution_count": null,
   "id": "fb7941c3-e1c7-4748-8e2c-04b279ccfa30",
   "metadata": {
    "tags": []
   },
   "outputs": [],
   "source": [
    "for param_set in base_params:\n",
    "    run = client.create_run(experiment_id=str(mlflow_id))\n",
    "    for param, value in param_set.items():\n",
    "        client.log_param(run_id=run.info.run_id, key=param, value=value)"
   ]
  },
  {
   "cell_type": "code",
   "execution_count": 12,
   "id": "93ccff78-265f-4bee-9c0d-e61c5751d1ab",
   "metadata": {
    "tags": []
   },
   "outputs": [
    {
     "name": "stdout",
     "output_type": "stream",
     "text": [
      "{'bagging_size': 100, 'ensemble_size': 5, 'train_path': '/home/bogdan/Projects/pypruning-new/../rules-embedding-forest-reduction/data/processed/tae-train-3-s1.csv'}\n"
     ]
    },
    {
     "name": "stderr",
     "output_type": "stream",
     "text": [
      "/home/bogdan/Projects/pypruning-new/.venv/lib/python3.10/site-packages/mlxtend/classifier/ensemble_vote.py:173: UserWarning: fit_base_estimators=False enforces use_clones to be `False`\n",
      "  warnings.warn(\n"
     ]
    },
    {
     "name": "stdout",
     "output_type": "stream",
     "text": [
      "0.35526315789473684 vs 0.35526315789473684 vs 0.35526315789473684. Delta=0.0 (0.0)\n",
      "{'bagging_size': 100, 'ensemble_size': 5, 'train_path': '/home/bogdan/Projects/pypruning-new/../rules-embedding-forest-reduction/data/processed/penbased-train-3-s1.csv'}\n"
     ]
    },
    {
     "name": "stderr",
     "output_type": "stream",
     "text": [
      "/home/bogdan/Projects/pypruning-new/.venv/lib/python3.10/site-packages/mlxtend/classifier/ensemble_vote.py:173: UserWarning: fit_base_estimators=False enforces use_clones to be `False`\n",
      "  warnings.warn(\n"
     ]
    },
    {
     "name": "stdout",
     "output_type": "stream",
     "text": [
      "0.9847161572052402 vs 0.9847161572052402 vs 0.9847161572052402. Delta=0.0 (0.0)\n",
      "{'bagging_size': 100, 'ensemble_size': 5, 'train_path': '/home/bogdan/Projects/pypruning-new/../rules-embedding-forest-reduction/data/processed/vowel-train-1-s1.csv'}\n"
     ]
    },
    {
     "name": "stderr",
     "output_type": "stream",
     "text": [
      "/home/bogdan/Projects/pypruning-new/.venv/lib/python3.10/site-packages/mlxtend/classifier/ensemble_vote.py:173: UserWarning: fit_base_estimators=False enforces use_clones to be `False`\n",
      "  warnings.warn(\n"
     ]
    },
    {
     "name": "stdout",
     "output_type": "stream",
     "text": [
      "0.5292929292929293 vs 0.5292929292929293 vs 0.5292929292929293. Delta=0.0 (0.0)\n",
      "{'bagging_size': 100, 'ensemble_size': 5, 'train_path': '/home/bogdan/Projects/pypruning-new/../rules-embedding-forest-reduction/data/processed/hepatitis-train-3-s1.csv'}\n"
     ]
    },
    {
     "name": "stderr",
     "output_type": "stream",
     "text": [
      "/home/bogdan/Projects/pypruning-new/.venv/lib/python3.10/site-packages/mlxtend/classifier/ensemble_vote.py:173: UserWarning: fit_base_estimators=False enforces use_clones to be `False`\n",
      "  warnings.warn(\n"
     ]
    },
    {
     "name": "stdout",
     "output_type": "stream",
     "text": [
      "0.85 vs 0.85 vs 0.85. Delta=0.0 (0.0)\n",
      "{'bagging_size': 100, 'ensemble_size': 5, 'train_path': '/home/bogdan/Projects/pypruning-new/../rules-embedding-forest-reduction/data/processed/vowel-train-3-s1.csv'}\n"
     ]
    },
    {
     "name": "stderr",
     "output_type": "stream",
     "text": [
      "/home/bogdan/Projects/pypruning-new/.venv/lib/python3.10/site-packages/mlxtend/classifier/ensemble_vote.py:173: UserWarning: fit_base_estimators=False enforces use_clones to be `False`\n",
      "  warnings.warn(\n"
     ]
    },
    {
     "name": "stdout",
     "output_type": "stream",
     "text": [
      "0.5212121212121212 vs 0.5151515151515151 vs 0.5151515151515151. Delta=0.0060606060606061 (0.0)\n",
      "{'bagging_size': 100, 'ensemble_size': 5, 'train_path': '/home/bogdan/Projects/pypruning-new/../rules-embedding-forest-reduction/data/processed/hayes-roth-train-0-s2.csv'}\n"
     ]
    },
    {
     "name": "stderr",
     "output_type": "stream",
     "text": [
      "/home/bogdan/Projects/pypruning-new/.venv/lib/python3.10/site-packages/mlxtend/classifier/ensemble_vote.py:173: UserWarning: fit_base_estimators=False enforces use_clones to be `False`\n",
      "  warnings.warn(\n"
     ]
    },
    {
     "name": "stdout",
     "output_type": "stream",
     "text": [
      "0.5875 vs 0.5875 vs 0.5875. Delta=0.0 (0.0)\n",
      "{'bagging_size': 100, 'ensemble_size': 5, 'train_path': '/home/bogdan/Projects/pypruning-new/../rules-embedding-forest-reduction/data/processed/coil2000-train-1-s1.csv'}\n"
     ]
    },
    {
     "name": "stderr",
     "output_type": "stream",
     "text": [
      "/home/bogdan/Projects/pypruning-new/.venv/lib/python3.10/site-packages/mlxtend/classifier/ensemble_vote.py:173: UserWarning: fit_base_estimators=False enforces use_clones to be `False`\n",
      "  warnings.warn(\n"
     ]
    },
    {
     "name": "stdout",
     "output_type": "stream",
     "text": [
      "0.9403380166972104 vs 0.9403380166972104 vs 0.9403380166972104. Delta=0.0 (0.0)\n",
      "{'bagging_size': 100, 'ensemble_size': 5, 'train_path': '/home/bogdan/Projects/pypruning-new/../rules-embedding-forest-reduction/data/processed/wdbc-train-3-s2.csv'}\n"
     ]
    },
    {
     "name": "stderr",
     "output_type": "stream",
     "text": [
      "/home/bogdan/Projects/pypruning-new/.venv/lib/python3.10/site-packages/mlxtend/classifier/ensemble_vote.py:173: UserWarning: fit_base_estimators=False enforces use_clones to be `False`\n",
      "  warnings.warn(\n"
     ]
    },
    {
     "name": "stdout",
     "output_type": "stream",
     "text": [
      "0.9084507042253521 vs 0.9084507042253521 vs 0.9084507042253521. Delta=0.0 (0.0)\n",
      "{'bagging_size': 100, 'ensemble_size': 5, 'train_path': '/home/bogdan/Projects/pypruning-new/../rules-embedding-forest-reduction/data/processed/flare-train-1-s1.csv'}\n"
     ]
    },
    {
     "name": "stderr",
     "output_type": "stream",
     "text": [
      "/home/bogdan/Projects/pypruning-new/.venv/lib/python3.10/site-packages/mlxtend/classifier/ensemble_vote.py:173: UserWarning: fit_base_estimators=False enforces use_clones to be `False`\n",
      "  warnings.warn(\n"
     ]
    },
    {
     "name": "stdout",
     "output_type": "stream",
     "text": [
      "0.7335834896810507 vs 0.7335834896810507 vs 0.7335834896810507. Delta=0.0 (0.0)\n",
      "{'bagging_size': 100, 'ensemble_size': 5, 'train_path': '/home/bogdan/Projects/pypruning-new/../rules-embedding-forest-reduction/data/processed/cleveland-train-2-s2.csv'}\n"
     ]
    },
    {
     "name": "stderr",
     "output_type": "stream",
     "text": [
      "/home/bogdan/Projects/pypruning-new/.venv/lib/python3.10/site-packages/mlxtend/classifier/ensemble_vote.py:173: UserWarning: fit_base_estimators=False enforces use_clones to be `False`\n",
      "  warnings.warn(\n"
     ]
    },
    {
     "name": "stdout",
     "output_type": "stream",
     "text": [
      "0.5405405405405406 vs 0.5405405405405406 vs 0.5405405405405406. Delta=0.0 (0.0)\n",
      "{'bagging_size': 100, 'ensemble_size': 5, 'train_path': '/home/bogdan/Projects/pypruning-new/../rules-embedding-forest-reduction/data/processed/segment-train-4-s2.csv'}\n"
     ]
    },
    {
     "name": "stderr",
     "output_type": "stream",
     "text": [
      "/home/bogdan/Projects/pypruning-new/.venv/lib/python3.10/site-packages/mlxtend/classifier/ensemble_vote.py:173: UserWarning: fit_base_estimators=False enforces use_clones to be `False`\n",
      "  warnings.warn(\n"
     ]
    },
    {
     "name": "stdout",
     "output_type": "stream",
     "text": [
      "0.8995670995670996 vs 0.8995670995670996 vs 0.8995670995670996. Delta=0.0 (0.0)\n",
      "{'bagging_size': 100, 'ensemble_size': 5, 'train_path': '/home/bogdan/Projects/pypruning-new/../rules-embedding-forest-reduction/data/processed/german-train-1-s2.csv'}\n"
     ]
    },
    {
     "name": "stderr",
     "output_type": "stream",
     "text": [
      "/home/bogdan/Projects/pypruning-new/.venv/lib/python3.10/site-packages/mlxtend/classifier/ensemble_vote.py:173: UserWarning: fit_base_estimators=False enforces use_clones to be `False`\n",
      "  warnings.warn(\n"
     ]
    },
    {
     "name": "stdout",
     "output_type": "stream",
     "text": [
      "0.678 vs 0.672 vs 0.672. Delta=0.006000000000000005 (0.0)\n",
      "{'bagging_size': 100, 'ensemble_size': 5, 'train_path': '/home/bogdan/Projects/pypruning-new/../rules-embedding-forest-reduction/data/processed/flare-train-0-s1.csv'}\n"
     ]
    },
    {
     "name": "stderr",
     "output_type": "stream",
     "text": [
      "/home/bogdan/Projects/pypruning-new/.venv/lib/python3.10/site-packages/mlxtend/classifier/ensemble_vote.py:173: UserWarning: fit_base_estimators=False enforces use_clones to be `False`\n",
      "  warnings.warn(\n"
     ]
    },
    {
     "name": "stdout",
     "output_type": "stream",
     "text": [
      "0.7373358348968105 vs 0.7373358348968105 vs 0.7373358348968105. Delta=0.0 (0.0)\n",
      "{'bagging_size': 100, 'ensemble_size': 5, 'train_path': '/home/bogdan/Projects/pypruning-new/../rules-embedding-forest-reduction/data/processed/german-train-2-s1.csv'}\n"
     ]
    },
    {
     "name": "stderr",
     "output_type": "stream",
     "text": [
      "/home/bogdan/Projects/pypruning-new/.venv/lib/python3.10/site-packages/mlxtend/classifier/ensemble_vote.py:173: UserWarning: fit_base_estimators=False enforces use_clones to be `False`\n",
      "  warnings.warn(\n"
     ]
    },
    {
     "name": "stdout",
     "output_type": "stream",
     "text": [
      "0.712 vs 0.714 vs 0.714. Delta=-0.0020000000000000018 (0.0)\n",
      "{'bagging_size': 100, 'ensemble_size': 5, 'train_path': '/home/bogdan/Projects/pypruning-new/../rules-embedding-forest-reduction/data/processed/abalone-train-2-s2.csv'}\n"
     ]
    },
    {
     "ename": "IndexError",
     "evalue": "index 26 is out of bounds for axis 2 with size 24",
     "output_type": "error",
     "traceback": [
      "\u001B[0;31m---------------------------------------------------------------------------\u001B[0m",
      "\u001B[0;31mIndexError\u001B[0m                                Traceback (most recent call last)",
      "Cell \u001B[0;32mIn[12], line 18\u001B[0m\n\u001B[1;32m     16\u001B[0m voting \u001B[38;5;241m=\u001B[39m VotingClassifier(estimators\u001B[38;5;241m=\u001B[39mbagging_clfs)\n\u001B[1;32m     17\u001B[0m clf_random_pruned \u001B[38;5;241m=\u001B[39m RankPruningClassifier(n_estimators \u001B[38;5;241m=\u001B[39m \u001B[38;5;28mint\u001B[39m(np\u001B[38;5;241m.\u001B[39mceil(params\u001B[38;5;241m.\u001B[39mbagging_size)))\n\u001B[0;32m---> 18\u001B[0m \u001B[43mclf_random_pruned\u001B[49m\u001B[38;5;241;43m.\u001B[39;49m\u001B[43mprune\u001B[49m\u001B[43m(\u001B[49m\u001B[43mtrain\u001B[49m\u001B[38;5;241;43m.\u001B[39;49m\u001B[43mx\u001B[49m\u001B[43m,\u001B[49m\u001B[43m \u001B[49m\u001B[43mtrain\u001B[49m\u001B[38;5;241;43m.\u001B[39;49m\u001B[43my\u001B[49m\u001B[43m,\u001B[49m\u001B[43m \u001B[49m\u001B[43mbagging_clfs\u001B[49m\u001B[43m)\u001B[49m\n\u001B[1;32m     19\u001B[0m voting_clf \u001B[38;5;241m=\u001B[39m EnsembleVoteClassifier(clfs\u001B[38;5;241m=\u001B[39mbagging_clfs,\n\u001B[1;32m     20\u001B[0m                               weights\u001B[38;5;241m=\u001B[39m[\u001B[38;5;241m1\u001B[39m \u001B[38;5;28;01mfor\u001B[39;00m _ \u001B[38;5;129;01min\u001B[39;00m \u001B[38;5;28mrange\u001B[39m(\u001B[38;5;28mlen\u001B[39m(bagging_clfs))],\n\u001B[1;32m     21\u001B[0m                               fit_base_estimators\u001B[38;5;241m=\u001B[39m\u001B[38;5;28;01mFalse\u001B[39;00m,\n\u001B[1;32m     22\u001B[0m                                    voting\u001B[38;5;241m=\u001B[39m\u001B[38;5;124m'\u001B[39m\u001B[38;5;124msoft\u001B[39m\u001B[38;5;124m'\u001B[39m)\n\u001B[1;32m     23\u001B[0m voting_clf\u001B[38;5;241m.\u001B[39mfit(train\u001B[38;5;241m.\u001B[39mx, train\u001B[38;5;241m.\u001B[39my)\n",
      "File \u001B[0;32m~/Projects/pypruning-new/.venv/lib/python3.10/site-packages/PyPruning/PruningClassifier.py:104\u001B[0m, in \u001B[0;36mPruningClassifier.prune\u001B[0;34m(self, X, y, estimators, classes, n_classes)\u001B[0m\n\u001B[1;32m    102\u001B[0m proba \u001B[38;5;241m=\u001B[39m np\u001B[38;5;241m.\u001B[39mzeros(shape\u001B[38;5;241m=\u001B[39m(\u001B[38;5;28mlen\u001B[39m(estimators), X\u001B[38;5;241m.\u001B[39mshape[\u001B[38;5;241m0\u001B[39m], \u001B[38;5;28mself\u001B[39m\u001B[38;5;241m.\u001B[39mn_classes_), dtype\u001B[38;5;241m=\u001B[39mnp\u001B[38;5;241m.\u001B[39mfloat32)\n\u001B[1;32m    103\u001B[0m \u001B[38;5;28;01mfor\u001B[39;00m i, e \u001B[38;5;129;01min\u001B[39;00m \u001B[38;5;28menumerate\u001B[39m(estimators):\n\u001B[0;32m--> 104\u001B[0m     \u001B[43mproba\u001B[49m\u001B[43m[\u001B[49m\u001B[43mi\u001B[49m\u001B[43m,\u001B[49m\u001B[43m \u001B[49m\u001B[43m:\u001B[49m\u001B[43m,\u001B[49m\u001B[43m \u001B[49m\u001B[38;5;28;43mself\u001B[39;49m\u001B[38;5;241;43m.\u001B[39;49m\u001B[43mclasses_\u001B[49m\u001B[38;5;241;43m.\u001B[39;49m\u001B[43mastype\u001B[49m\u001B[43m(\u001B[49m\u001B[38;5;28;43mint\u001B[39;49m\u001B[43m)\u001B[49m\u001B[43m]\u001B[49m \u001B[38;5;241m=\u001B[39m e\u001B[38;5;241m.\u001B[39mpredict_proba(X)\u001B[38;5;241m.\u001B[39mT\n\u001B[1;32m    106\u001B[0m \u001B[38;5;66;03m# proba = []\u001B[39;00m\n\u001B[1;32m    107\u001B[0m \u001B[38;5;66;03m# for h in estimators:\u001B[39;00m\n\u001B[1;32m    108\u001B[0m \u001B[38;5;66;03m#     proba.append(h.predict_proba(X))\u001B[39;00m\n\u001B[1;32m    109\u001B[0m \u001B[38;5;66;03m# proba = np.array(proba)\u001B[39;00m\n\u001B[1;32m    111\u001B[0m \u001B[38;5;28mself\u001B[39m\u001B[38;5;241m.\u001B[39mestimators_ \u001B[38;5;241m=\u001B[39m copy\u001B[38;5;241m.\u001B[39mdeepcopy(estimators)\n",
      "\u001B[0;31mIndexError\u001B[0m: index 26 is out of bounds for axis 2 with size 24"
     ]
    }
   ],
   "source": [
    "for idx, params in enumerate(list(base_params)[:30]):\n",
    "    params = Box(params)\n",
    "    print(params)\n",
    "    train = read_dataset(params.train_path)\n",
    "    test = read_dataset(params.train_path.replace('train', 'test'))\n",
    "    \n",
    "    le = LabelEncoder()\n",
    "    le.fit(np.concatenate([train.y, test.y]))\n",
    "    train.y = le.transform(train.y)\n",
    "    test.y = le.transform(test.y)\n",
    "    \n",
    "    bagging = BaggingClassifier(estimator=KNeighborsClassifier(n_neighbors=3), n_estimators=params.bagging_size, max_samples=0.3, random_state=42)\n",
    "    bagging.fit(train.x,train.y) \n",
    "    bagging_clfs = extract_classifiers_from_bagging(bagging)    \n",
    "    \n",
    "    voting = VotingClassifier(estimators=bagging_clfs)\n",
    "    clf_random_pruned = RankPruningClassifier(n_estimators = int(np.ceil(params.bagging_size)))\n",
    "    clf_random_pruned.prune(train.x, train.y, bagging_clfs)\n",
    "    voting_clf = EnsembleVoteClassifier(clfs=bagging_clfs,\n",
    "                                  weights=[1 for _ in range(len(bagging_clfs))],\n",
    "                                  fit_base_estimators=False,\n",
    "                                       voting='soft')\n",
    "    voting_clf.fit(train.x, train.y)\n",
    "\n",
    "    acc_pruned = accuracy_score(clf_random_pruned.predict(test.x), test.y)\n",
    "    acc_bagging = accuracy_score(bagging.predict(test.x), test.y)\n",
    "    voting_clf_score = accuracy_score(voting_clf.predict(test.x), test.y)\n",
    "    \n",
    "#     for e in bagging.estimators_:\n",
    "#         if len(bagging.classes_) > 2 and len(e.classes_) != len(bagging.classes_):\n",
    "#             raise Exception\n",
    "        \n",
    "    print(f\"{acc_pruned} vs {voting_clf_score} vs {acc_bagging}. Delta={acc_pruned-acc_bagging} ({voting_clf_score - acc_bagging})\")"
   ]
  },
  {
   "cell_type": "code",
   "execution_count": null,
   "id": "4c82140c-b046-4d8b-ab49-7f728a6cc4a6",
   "metadata": {
    "tags": []
   },
   "outputs": [],
   "source": [
    "data, target = load_digits(return_X_y = True)\n",
    "\n",
    "# Perform a test / train / prune split\n",
    "XTP, Xtest, ytp, ytest = train_test_split(data, target, test_size=0.25, random_state=42)\n",
    "Xtrain, Xprune, ytrain, yprune = train_test_split(XTP, ytp, test_size=0.25, random_state=42)\n",
    "\n",
    "n_base = 128\n",
    "n_prune = 8\n",
    "\n",
    "# Train a \"large\" initial random forest\n",
    "model = RandomForestClassifier(n_estimators=n_base)\n",
    "model.fit(XTP, ytp)\n",
    "pred = model.predict(Xtest)\n",
    "\n",
    "print(\"Accuracy of RF trained on XTrain + XPrune with {} estimators: {} %\".format(n_base, 100.0 * accuracy_score(ytest, pred)))\n",
    "\n",
    "# Train a \"small\" initial random forest for reference\n",
    "model = RandomForestClassifier(n_estimators=n_base)\n",
    "model.fit(Xtrain, ytrain)\n",
    "pred = model.predict(Xtest)\n",
    "\n",
    "print(\"Accuracy of RF trained on XTrain only with {} estimators: {} %\".format(n_base, 100.0 * accuracy_score(ytest, pred)))\n",
    "\n",
    "# Use different pruning methods to prune the large forest\n",
    "pruned_model = RandomPruningClassifier(n_estimators = n_prune)\n",
    "pruned_model.prune(Xprune, yprune, model.estimators_)\n",
    "pred = pruned_model.predict(Xtest)\n",
    "print(\"Accuracy of RandomPruningClassifier with {} estimators: {} %\".format(n_prune, 100.0 * accuracy_score(ytest, pred)))"
   ]
  }
 ],
 "metadata": {
  "kernelspec": {
   "display_name": "Python 3 (ipykernel)",
   "language": "python",
   "name": "python3"
  },
  "language_info": {
   "codemirror_mode": {
    "name": "ipython",
    "version": 3
   },
   "file_extension": ".py",
   "mimetype": "text/x-python",
   "name": "python",
   "nbconvert_exporter": "python",
   "pygments_lexer": "ipython3",
   "version": "3.10.9"
  }
 },
 "nbformat": 4,
 "nbformat_minor": 5
}
